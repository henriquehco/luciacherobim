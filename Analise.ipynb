{
 "cells": [
  {
   "cell_type": "code",
   "execution_count": 2,
   "metadata": {},
   "outputs": [],
   "source": [
    "import pandas as pd\n",
    "import numpy as np\n",
    "import matplotlib.pyplot as plt"
   ]
  },
  {
   "cell_type": "code",
   "execution_count": 4,
   "metadata": {},
   "outputs": [
    {
     "name": "stdout",
     "output_type": "stream",
     "text": [
      "Index(['CHB.UG1.LA.CASQ.Temp_1 Timestamp', 'CHB.UG1.LA.CASQ.Temp_1 Value',\n",
      "       'CHB.UG1.LA.CASQ.Temp_2 Timestamp', 'CHB.UG1.LA.CASQ.Temp_2 Value',\n",
      "       'CHB.UG1.LA.ME.Temp_2 Timestamp', 'CHB.UG1.LA.ME.Temp_2 Value',\n",
      "       'CHB.UG1.LA.ME.Temp_1 Timestamp', 'CHB.UG1.LA.ME.Temp_1 Value',\n",
      "       'CHB.UG1.LA.ME.Temp_3 Timestamp', 'CHB.UG1.LA.ME.Temp_3 Value',\n",
      "       'CHB.UG1.LA.Temp_Ol Timestamp', 'CHB.UG1.LA.Temp_Ol Value',\n",
      "       'CHB.UG1.LA.MCE.Temp Timestamp', 'CHB.UG1.LA.MCE.Temp Value',\n",
      "       'CHB.UG1.LNA.CASQ.Temp_2 Timestamp', 'CHB.UG1.LNA.CASQ.Temp_2 Value',\n",
      "       'CHB.UG1.LNA.CASQ.Temp_1 Timestamp', 'CHB.UG1.LNA.CASQ.Temp_1 Value',\n",
      "       'CHB.UG1.LNA.Temp_Ol Timestamp', 'CHB.UG1.LNA.Temp_Ol Value',\n",
      "       'CHB.UG1.UHLM.Temp_Ol Timestamp', 'CHB.UG1.UHLM.Temp_Ol Value',\n",
      "       'CHB.UG1.RV.Vel Timestamp', 'CHB.UG1.RV.Vel Value',\n",
      "       'CHB.UG1.RV.PosDistr Timestamp', 'CHB.UG1.RV.PosDistr Value'],\n",
      "      dtype='object')\n"
     ]
    }
   ],
   "source": [
    "# Load the data\n",
    "data = pd.read_csv('elevação de temperatura dos mancais.csv')\n",
    "\n",
    "#Print column names\n",
    "print(data.columns)\n"
   ]
  },
  {
   "cell_type": "code",
   "execution_count": null,
   "metadata": {},
   "outputs": [],
   "source": []
  }
 ],
 "metadata": {
  "kernelspec": {
   "display_name": "Python 3",
   "language": "python",
   "name": "python3"
  },
  "language_info": {
   "codemirror_mode": {
    "name": "ipython",
    "version": 3
   },
   "file_extension": ".py",
   "mimetype": "text/x-python",
   "name": "python",
   "nbconvert_exporter": "python",
   "pygments_lexer": "ipython3",
   "version": "3.11.4"
  }
 },
 "nbformat": 4,
 "nbformat_minor": 2
}
